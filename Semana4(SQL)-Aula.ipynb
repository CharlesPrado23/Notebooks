{
 "cells": [
  {
   "cell_type": "code",
   "execution_count": 56,
   "metadata": {},
   "outputs": [],
   "source": [
    "import sqlite3\n",
    "engine = sqlite3.connect('example20.db')"
   ]
  },
  {
   "cell_type": "code",
   "execution_count": 265,
   "metadata": {},
   "outputs": [
    {
     "data": {
      "text/plain": [
       "[]"
      ]
     },
     "execution_count": 265,
     "metadata": {},
     "output_type": "execute_result"
    }
   ],
   "source": [
    "cursor = engine.cursor()\n",
    "\n",
    "cursor.execute(\"PRAGMA foreign_keys = ON\").fetchall()\n",
    "\n",
    "### cursor.execute(\"PRAGMA foreign_keys\").fetchall()"
   ]
  },
  {
   "cell_type": "markdown",
   "metadata": {},
   "source": [
    "### Syntax:\n",
    "### \"CREATE [TEMP | TEMPORARY] TABLE table-name (\n",
    "### column-def[, column-def]\n",
    "### [,constraint]);\n",
    "\n",
    "### column-def:\n",
    "### name [type] [[CONSTRAINT name] column-constraint]\""
   ]
  },
  {
   "cell_type": "code",
   "execution_count": 19,
   "metadata": {},
   "outputs": [],
   "source": [
    "sql_create_projects_table = \"\"\" CREATE TABLE IF NOT EXISTS projects (\n",
    "                                        id integer PRIMARY KEY,\n",
    "                                        name text NOT NULL,\n",
    "                                        begin_date text,\n",
    "                                        end_date text\n",
    "                                    ); \"\"\""
   ]
  },
  {
   "cell_type": "code",
   "execution_count": 20,
   "metadata": {},
   "outputs": [],
   "source": [
    "sql_create_tasks_table = \"\"\"CREATE TABLE IF NOT EXISTS tasks (\n",
    "                                    id integer PRIMARY KEY,\n",
    "                                    name text NOT NULL,\n",
    "                                    priority integer,\n",
    "                                    status_id integer NOT NULL,\n",
    "                                    project_id integer NOT NULL REFERENCES projects (id),\n",
    "                                    begin_date text NOT NULL,\n",
    "                                    end_date text NOT NULL\n",
    "                                );\"\"\"\n",
    "# StudentId INT REFERENCES Student (StudentId)\n",
    "#FOREIGN KEY (project_id) REFERENCES projects (id)"
   ]
  },
  {
   "cell_type": "code",
   "execution_count": 21,
   "metadata": {},
   "outputs": [
    {
     "data": {
      "text/plain": [
       "<sqlite3.Cursor at 0x10b580c00>"
      ]
     },
     "execution_count": 21,
     "metadata": {},
     "output_type": "execute_result"
    }
   ],
   "source": [
    "cursor.execute(sql_create_projects_table)"
   ]
  },
  {
   "cell_type": "code",
   "execution_count": 22,
   "metadata": {},
   "outputs": [
    {
     "data": {
      "text/plain": [
       "<sqlite3.Cursor at 0x10b580c00>"
      ]
     },
     "execution_count": 22,
     "metadata": {},
     "output_type": "execute_result"
    }
   ],
   "source": [
    "cursor.execute(sql_create_tasks_table)"
   ]
  },
  {
   "cell_type": "code",
   "execution_count": 7,
   "metadata": {},
   "outputs": [
    {
     "name": "stdout",
     "output_type": "stream",
     "text": [
      "0 id integer\n",
      "1 name text\n",
      "2 begin_date text\n",
      "3 end_date text\n"
     ]
    }
   ],
   "source": [
    "data = cursor.execute(\"PRAGMA table_info(projects)\").fetchall()\n",
    "for d in data:\n",
    "    print (d[0], d[1], d[2])"
   ]
  },
  {
   "cell_type": "code",
   "execution_count": 24,
   "metadata": {},
   "outputs": [
    {
     "name": "stdout",
     "output_type": "stream",
     "text": [
      "0 id integer\n",
      "1 name text\n",
      "2 priority integer\n",
      "3 status_id integer\n",
      "4 project_id integer\n",
      "5 begin_date text\n",
      "6 end_date text\n"
     ]
    }
   ],
   "source": [
    "data = cursor.execute(\"PRAGMA table_info(tasks)\").fetchall()\n",
    "for d in data:\n",
    "    print (d[0], d[1],d[2])"
   ]
  },
  {
   "cell_type": "markdown",
   "metadata": {},
   "source": [
    "## SYNTAX (INSERT): \n",
    "\n",
    "### \"INSERT [OR conflict-algorithm]\n",
    "### INTO [database-name .] table-name [(column-list)]\n",
    "### VALUES (value-list)\""
   ]
  },
  {
   "cell_type": "code",
   "execution_count": 25,
   "metadata": {},
   "outputs": [
    {
     "data": {
      "text/plain": [
       "<sqlite3.Cursor at 0x10b580c00>"
      ]
     },
     "execution_count": 25,
     "metadata": {},
     "output_type": "execute_result"
    }
   ],
   "source": [
    "cursor.execute(\"INSERT INTO projects (name,begin_date,end_date) VALUES ('Project03','2021-02-23','2021-03-23')\")"
   ]
  },
  {
   "cell_type": "code",
   "execution_count": 26,
   "metadata": {},
   "outputs": [],
   "source": [
    "engine.commit()"
   ]
  },
  {
   "cell_type": "markdown",
   "metadata": {},
   "source": [
    "## SYNTAX (SELECT): \n",
    "\n",
    "### SELECT [ALL | DISTINCT] result [FROM table-list]\n",
    "### [WHERE expr]\n",
    "### [GROUP BY expr-list]\n",
    "### [HAVING expr]\n",
    "### [compound-op select]*\n",
    "### [ORDER BY sort-expr-list]\n",
    "### [LIMIT integer [(OFFSET|,) integer]]"
   ]
  },
  {
   "cell_type": "code",
   "execution_count": 27,
   "metadata": {},
   "outputs": [
    {
     "data": {
      "text/plain": [
       "[(1, 'Project03', '2021-02-23', '2021-03-23')]"
      ]
     },
     "execution_count": 27,
     "metadata": {},
     "output_type": "execute_result"
    }
   ],
   "source": [
    "cursor.execute('SELECT * FROM projects ').fetchall()"
   ]
  },
  {
   "cell_type": "code",
   "execution_count": 29,
   "metadata": {},
   "outputs": [
    {
     "data": {
      "text/plain": [
       "<sqlite3.Cursor at 0x10b580c00>"
      ]
     },
     "execution_count": 29,
     "metadata": {},
     "output_type": "execute_result"
    }
   ],
   "source": [
    "cursor.execute(\"INSERT INTO tasks (name,priority,status_id,project_id,begin_date,end_date)\\\n",
    "    VALUES ('task05',0,1,10,'2021-02-23','2021-03-23')\")"
   ]
  },
  {
   "cell_type": "code",
   "execution_count": 30,
   "metadata": {},
   "outputs": [],
   "source": [
    "#tasks=[(1,'task01',0,1,0,'2021-02-23','2021-03-23'), (2,'task02',0,1,0,'2021-02-23','2021-03-23')]\n",
    "#cursor.executemany('INSERT INTO tasks VALUES (?,?,?,?,?,?,?)', tasks)"
   ]
  },
  {
   "cell_type": "code",
   "execution_count": 31,
   "metadata": {},
   "outputs": [
    {
     "data": {
      "text/plain": [
       "[(1, 'task05', 0, 1, 1, '2021-02-23', '2021-03-23')]"
      ]
     },
     "execution_count": 31,
     "metadata": {},
     "output_type": "execute_result"
    }
   ],
   "source": [
    "cursor.execute(\"SELECT * from tasks\").fetchall()"
   ]
  },
  {
   "cell_type": "code",
   "execution_count": null,
   "metadata": {},
   "outputs": [],
   "source": []
  },
  {
   "cell_type": "code",
   "execution_count": null,
   "metadata": {},
   "outputs": [],
   "source": []
  },
  {
   "cell_type": "code",
   "execution_count": 59,
   "metadata": {},
   "outputs": [
    {
     "ename": "OperationalError",
     "evalue": "table EMP already exists",
     "output_type": "error",
     "traceback": [
      "\u001b[0;31m---------------------------------------------------------------------------\u001b[0m",
      "\u001b[0;31mOperationalError\u001b[0m                          Traceback (most recent call last)",
      "\u001b[0;32m<ipython-input-59-cb560210df6c>\u001b[0m in \u001b[0;36m<module>\u001b[0;34m\u001b[0m\n\u001b[0;32m----> 1\u001b[0;31m cursor.execute('''CREATE TABLE EMP\n\u001b[0m\u001b[1;32m      2\u001b[0m              (EMPNO int, ENAME text, JOB text, MGR int, HIREDATE date, SAL real,COMM int, DEPTNO int)''')\n",
      "\u001b[0;31mOperationalError\u001b[0m: table EMP already exists"
     ]
    }
   ],
   "source": [
    "cursor.execute('''CREATE TABLE EMP (EMPNO int, ENAME text, JOB text, MGR int, HIREDATE date, SAL real,COMM int, DEPTNO int)''')"
   ]
  },
  {
   "cell_type": "code",
   "execution_count": 60,
   "metadata": {},
   "outputs": [
    {
     "name": "stdout",
     "output_type": "stream",
     "text": [
      "0 EMPNO int\n",
      "1 ENAME text\n",
      "2 JOB text\n",
      "3 MGR int\n",
      "4 HIREDATE date\n",
      "5 SAL real\n",
      "6 COMM int\n",
      "7 DEPTNO int\n"
     ]
    }
   ],
   "source": [
    "data = cursor.execute(\"PRAGMA table_info(EMP)\").fetchall()\n",
    "for d in data:\n",
    "    print (d[0], d[1], d[2])"
   ]
  },
  {
   "cell_type": "code",
   "execution_count": 61,
   "metadata": {},
   "outputs": [],
   "source": [
    " employes = [(7369, 'SMITH',  'CLERK', 7902, '2005-12-11', 800, 150 , 20),\n",
    " (7499, 'ALLEN',  'SALESMAN', 7698, '2006-02-23',1600, 300, 30),\n",
    " (7521, 'WARD', 'SALESMAN', 7698,'2006-02-26', 1250, 500, 30),\n",
    " (7566, 'JONES','MANAGER', 7839,'2006-04-02', 2975, 520, 20),            \n",
    " (7654, 'MARTIN','SALESMAN', 7698,'2006-09-28', 1400, 420, 30),\n",
    " (7698, 'BLAKE','MANAGER', 7839,'2006-05-1', 2850, 600, 30),\n",
    " (7782, 'CLARK', 'MANAGER', 7839, '2006-06-09',2450, 580,10),\n",
    " (7788, 'SCOTT', 'ANALYST', 7566,'2007-12-09',3000,640,20),\n",
    " (7839, 'KING','PRESIDENT','', '2006-11-17',5000,0,10),\n",
    " (7844, 'TURNER', 'SALESMAN',7698,'2006-09-13',1500,0,30),\n",
    " (7876, 'ADAMS', 'CLERK',7788, '2008-01-12',1100,50,20),\n",
    " (7900, 'JAMES', 'CLERK',7698, '2006-12-03',950,40,30),\n",
    " (7902, 'FORD', 'ANALYST',7566,'2006-12-03',3000,10,20),\n",
    " (7934, 'MILLER','CLERK',7782,'2007-01-23',1300,\"\",10)]"
   ]
  },
  {
   "cell_type": "code",
   "execution_count": 62,
   "metadata": {},
   "outputs": [
    {
     "data": {
      "text/plain": [
       "<sqlite3.Cursor at 0x112272c00>"
      ]
     },
     "execution_count": 62,
     "metadata": {},
     "output_type": "execute_result"
    }
   ],
   "source": [
    "cursor.executemany('INSERT INTO EMP VALUES (?,?,?,?,?,?,?,?)', employes)"
   ]
  },
  {
   "cell_type": "code",
   "execution_count": 63,
   "metadata": {},
   "outputs": [
    {
     "data": {
      "text/plain": [
       "[(7369, 'SMITH', 'CLERK', 7902, '2005-12-11', 800.0, 150, 20),\n",
       " (7499, 'ALLEN', 'SALESMAN', 7698, '2006-02-23', 1600.0, 300, 30),\n",
       " (7521, 'WARD', 'SALESMAN', 7698, '2006-02-26', 1250.0, 500, 30),\n",
       " (7566, 'JONES', 'MANAGER', 7839, '2006-04-02', 2975.0, 520, 20),\n",
       " (7654, 'MARTIN', 'SALESMAN', 7698, '2006-09-28', 1400.0, 420, 30),\n",
       " (7698, 'BLAKE', 'MANAGER', 7839, '2006-05-1', 2850.0, 600, 30),\n",
       " (7782, 'CLARK', 'MANAGER', 7839, '2006-06-09', 2450.0, 580, 10),\n",
       " (7788, 'SCOTT', 'ANALYST', 7566, '2007-12-09', 3000.0, 640, 20),\n",
       " (7839, 'KING', 'PRESIDENT', '', '2006-11-17', 5000.0, 0, 10),\n",
       " (7844, 'TURNER', 'SALESMAN', 7698, '2006-09-13', 1500.0, 0, 30),\n",
       " (7876, 'ADAMS', 'CLERK', 7788, '2008-01-12', 1100.0, 50, 20),\n",
       " (7900, 'JAMES', 'CLERK', 7698, '2006-12-03', 950.0, 40, 30),\n",
       " (7902, 'FORD', 'ANALYST', 7566, '2006-12-03', 3000.0, 10, 20),\n",
       " (7934, 'MILLER', 'CLERK', 7782, '2007-01-23', 1300.0, '', 10)]"
      ]
     },
     "execution_count": 63,
     "metadata": {},
     "output_type": "execute_result"
    }
   ],
   "source": [
    "cursor.execute('SELECT * FROM EMP').fetchall()"
   ]
  },
  {
   "cell_type": "code",
   "execution_count": 64,
   "metadata": {},
   "outputs": [
    {
     "data": {
      "text/plain": [
       "<sqlite3.Cursor at 0x112272c00>"
      ]
     },
     "execution_count": 64,
     "metadata": {},
     "output_type": "execute_result"
    }
   ],
   "source": [
    "cursor.execute('''CREATE TABLE DEPT\n",
    "             (DEPTNO int not null, DNAME  text, LOC text)''')"
   ]
  },
  {
   "cell_type": "code",
   "execution_count": 65,
   "metadata": {},
   "outputs": [],
   "source": [
    "depts = [(10,'ACCOUNTING','NEW YORK'),\n",
    "         (20,'RESEARCH','DALLAS'),\n",
    "         (30,'SALES','CHICAGO'),\n",
    "         (40,'OPERATIONS','BOSTON')] \n"
   ]
  },
  {
   "cell_type": "code",
   "execution_count": 66,
   "metadata": {},
   "outputs": [
    {
     "data": {
      "text/plain": [
       "list"
      ]
     },
     "execution_count": 66,
     "metadata": {},
     "output_type": "execute_result"
    }
   ],
   "source": [
    "type(depts)"
   ]
  },
  {
   "cell_type": "code",
   "execution_count": 67,
   "metadata": {},
   "outputs": [
    {
     "data": {
      "text/plain": [
       "<sqlite3.Cursor at 0x112272c00>"
      ]
     },
     "execution_count": 67,
     "metadata": {},
     "output_type": "execute_result"
    }
   ],
   "source": [
    "cursor.executemany('INSERT INTO DEPT VALUES (?,?,?)', depts)"
   ]
  },
  {
   "cell_type": "code",
   "execution_count": 68,
   "metadata": {},
   "outputs": [
    {
     "data": {
      "text/plain": [
       "[(10, 'ACCOUNTING', 'NEW YORK'),\n",
       " (20, 'RESEARCH', 'DALLAS'),\n",
       " (30, 'SALES', 'CHICAGO'),\n",
       " (40, 'OPERATIONS', 'BOSTON')]"
      ]
     },
     "execution_count": 68,
     "metadata": {},
     "output_type": "execute_result"
    }
   ],
   "source": [
    "cursor.execute('SELECT * FROM DEPT').fetchall()"
   ]
  },
  {
   "cell_type": "code",
   "execution_count": 207,
   "metadata": {},
   "outputs": [
    {
     "name": "stdout",
     "output_type": "stream",
     "text": [
      "NAME\n",
      "JOB\n"
     ]
    }
   ],
   "source": [
    "### SELECT - Filtrando por atributos (Colunas) ##### \n",
    "\n",
    "data = cursor.execute('select ename as NAME, job from emp').fetchall()\n",
    "for x in cursor.description: \n",
    "    print(x[0])\n",
    "\n"
   ]
  },
  {
   "cell_type": "code",
   "execution_count": 52,
   "metadata": {},
   "outputs": [
    {
     "data": {
      "text/plain": [
       "[(7369, 'SMITH', 'CLERK', 7902, '2005-12-11', 1288.4080000000008, 150, 20),\n",
       " (7566, 'JONES', 'MANAGER', 7839, '2006-04-02', 4791.267250000003, 520, 20),\n",
       " (7782, 'CLARK', 'MANAGER', 7839, '2006-06-09', 2450.0, 580, 10),\n",
       " (7788, 'SCOTT', 'ANALYST', 7566, '2007-12-09', 4831.5300000000025, 640, 20),\n",
       " (7839, 'KING', 'PRESIDENT', '', '2006-11-17', 5000.0, 0, 10),\n",
       " (7876, 'ADAMS', 'CLERK', 7788, '2008-01-12', 1771.5610000000004, 50, 20),\n",
       " (7902, 'FORD', 'ANALYST', 7566, '2006-12-03', 4831.5300000000025, 10, 20),\n",
       " (7934, 'MILLER', 'CLERK', 7782, '2007-01-23', 1300.0, '', 10)]"
      ]
     },
     "execution_count": 52,
     "metadata": {},
     "output_type": "execute_result"
    }
   ],
   "source": [
    "### Retrieving a Subset of Rows from a Table #### \n",
    "cursor.execute('select * from emp where deptno < 30').fetchall()"
   ]
  },
  {
   "cell_type": "code",
   "execution_count": 70,
   "metadata": {},
   "outputs": [
    {
     "data": {
      "text/plain": [
       "[(9,)]"
      ]
     },
     "execution_count": 70,
     "metadata": {},
     "output_type": "execute_result"
    }
   ],
   "source": [
    "cursor.execute('select count(deptno) from emp where deptno != 20').fetchall()"
   ]
  },
  {
   "cell_type": "code",
   "execution_count": 71,
   "metadata": {},
   "outputs": [
    {
     "data": {
      "text/plain": [
       "[('CLERK',), ('MANAGER',), ('ANALYST',)]"
      ]
     },
     "execution_count": 71,
     "metadata": {},
     "output_type": "execute_result"
    }
   ],
   "source": [
    "cursor.execute('select DISTINCT job from emp where deptno =20').fetchall()"
   ]
  },
  {
   "cell_type": "code",
   "execution_count": 72,
   "metadata": {},
   "outputs": [
    {
     "data": {
      "text/plain": [
       "[(7369, 'SMITH', 'CLERK', 7902, '2005-12-11', 800.0, 150, 20),\n",
       " (7566, 'JONES', 'MANAGER', 7839, '2006-04-02', 2975.0, 520, 20),\n",
       " (7788, 'SCOTT', 'ANALYST', 7566, '2007-12-09', 3000.0, 640, 20),\n",
       " (7876, 'ADAMS', 'CLERK', 7788, '2008-01-12', 1100.0, 50, 20),\n",
       " (7902, 'FORD', 'ANALYST', 7566, '2006-12-03', 3000.0, 10, 20)]"
      ]
     },
     "execution_count": 72,
     "metadata": {},
     "output_type": "execute_result"
    }
   ],
   "source": [
    "cursor.execute('select * from emp where deptno =20').fetchall()"
   ]
  },
  {
   "cell_type": "markdown",
   "metadata": {},
   "source": [
    "### SYNTAX (UPDATE): \n",
    "\n",
    "### UPDATE table_name SET column_name=new_value [, ...] WHERE expression\n"
   ]
  },
  {
   "cell_type": "code",
   "execution_count": 73,
   "metadata": {},
   "outputs": [
    {
     "data": {
      "text/plain": [
       "[(7369, 'SMITH', 'CLERK', 7902, '2005-12-11', 880.0000000000001, 150, 20),\n",
       " (7566, 'JONES', 'MANAGER', 7839, '2006-04-02', 3272.5000000000005, 520, 20),\n",
       " (7788, 'SCOTT', 'ANALYST', 7566, '2007-12-09', 3300.0000000000005, 640, 20),\n",
       " (7876, 'ADAMS', 'CLERK', 7788, '2008-01-12', 1210.0, 50, 20),\n",
       " (7902, 'FORD', 'ANALYST', 7566, '2006-12-03', 3300.0000000000005, 10, 20)]"
      ]
     },
     "execution_count": 73,
     "metadata": {},
     "output_type": "execute_result"
    }
   ],
   "source": [
    "cursor.execute('update emp set sal = sal*1.10 where deptno = 20')\n",
    "engine.commit()\n",
    "cursor.execute('select * from emp where deptno =20').fetchall()"
   ]
  },
  {
   "cell_type": "code",
   "execution_count": 34,
   "metadata": {},
   "outputs": [
    {
     "data": {
      "text/plain": [
       "[('CLARK', 'MANAGER'), ('KING', 'PRESIDENT'), ('MILLER', 'CLERK')]"
      ]
     },
     "execution_count": 34,
     "metadata": {},
     "output_type": "execute_result"
    }
   ],
   "source": [
    "### Using Where #### \n",
    "cursor.execute('select ename, job from emp where deptno = 10').fetchall()"
   ]
  },
  {
   "cell_type": "code",
   "execution_count": 118,
   "metadata": {},
   "outputs": [
    {
     "name": "stdout",
     "output_type": "stream",
     "text": [
      "status\n",
      "Name, Salary, Status\n",
      "SMITH 880.0000000000001 UNDERPAID\n",
      "ALLEN 1600.0 UNDERPAID\n",
      "WARD 1250.0 UNDERPAID\n",
      "JONES 3272.5000000000005 OK\n",
      "MARTIN 1400.0 UNDERPAID\n",
      "BLAKE 2850.0 OK\n",
      "CLARK 2450.0 OK\n",
      "SCOTT 3300.0000000000005 OK\n",
      "KING 5000.0 OVERPAID\n",
      "TURNER 1500.0 UNDERPAID\n",
      "ADAMS 1210.0 UNDERPAID\n",
      "JAMES 950.0 UNDERPAID\n",
      "FORD 3300.0000000000005 OK\n",
      "MILLER 1300.0 UNDERPAID\n"
     ]
    }
   ],
   "source": [
    "### Using Conditional Logic in a SELECT Statement #### \n",
    "data = cursor.execute('select ename,sal, case when sal <= 2000 then \"UNDERPAID\"\\\n",
    "                when sal >= 4000 then \"OVERPAID\"\\\n",
    "                else \"OK\" end as status from emp').fetchall()\n",
    "\n",
    "x = cursor.description\n",
    "print(x[2][0])\n",
    "\n",
    "print(\"Name, Salary, Status\")\n",
    "for d in data: \n",
    "    print (d[0], d[1], d[2])\n",
    "    \n",
    "#### case when condição (sal <=2000) then faz alguma ação (\"UNDERPAID\")\n",
    "###  when outra condição  xxx then uma outra ação \n",
    "### else executa última ação\n",
    "### end fecha a clausla do case "
   ]
  },
  {
   "cell_type": "code",
   "execution_count": 45,
   "metadata": {},
   "outputs": [
    {
     "data": {
      "text/plain": [
       "[(7369, 'SMITH', 'CLERK', 7902, '2005-12-11', 800.0, 150, 20),\n",
       " (7499, 'ALLEN', 'SALESMAN', 7698, '2006-02-23', 1600.0, 300, 30),\n",
       " (7521, 'WARD', 'SALESMAN', 7698, '2006-02-26', 1250.0, 500, 30),\n",
       " (7566, 'JONES', 'MANAGER', 7839, '2006-04-02', 2975.0, 520, 20),\n",
       " (7654, 'MARTIN', 'SALESMAN', 7698, '2006-09-28', 1400.0, 420, 30)]"
      ]
     },
     "execution_count": 45,
     "metadata": {},
     "output_type": "execute_result"
    }
   ],
   "source": [
    "### Limiting the Number of Rows Returned #### \n",
    "cursor.execute('select * from emp limit 5').fetchall()"
   ]
  },
  {
   "cell_type": "code",
   "execution_count": 46,
   "metadata": {},
   "outputs": [
    {
     "data": {
      "text/plain": [
       "[('BLAKE', 'MANAGER'),\n",
       " ('MILLER', 'CLERK'),\n",
       " ('ALLEN', 'SALESMAN'),\n",
       " ('TURNER', 'SALESMAN'),\n",
       " ('FORD', 'ANALYST')]"
      ]
     },
     "execution_count": 46,
     "metadata": {},
     "output_type": "execute_result"
    }
   ],
   "source": [
    "### Returning Valores aleatórios #####\n",
    "cursor.execute('select ename,job from emp order by random() limit 5').fetchall()"
   ]
  },
  {
   "cell_type": "code",
   "execution_count": 23,
   "metadata": {},
   "outputs": [
    {
     "data": {
      "text/plain": [
       "[('SMITH', 'CLERK'),\n",
       " ('JONES', 'MANAGER'),\n",
       " ('CLARK', 'MANAGER'),\n",
       " ('SCOTT', 'ANALYST'),\n",
       " ('KING', 'PRESIDENT'),\n",
       " ('ADAMS', 'CLERK'),\n",
       " ('FORD', 'ANALYST'),\n",
       " ('MILLER', 'CLERK')]"
      ]
     },
     "execution_count": 23,
     "metadata": {},
     "output_type": "execute_result"
    }
   ],
   "source": [
    "## Searching for Patterns ####\n",
    "cursor.execute('select ename, job from emp where deptno in (10,20)').fetchall()"
   ]
  },
  {
   "cell_type": "code",
   "execution_count": 24,
   "metadata": {},
   "outputs": [
    {
     "data": {
      "text/plain": [
       "[('SMITH', 'CLERK'),\n",
       " ('JONES', 'MANAGER'),\n",
       " ('CLARK', 'MANAGER'),\n",
       " ('KING', 'PRESIDENT'),\n",
       " ('MILLER', 'CLERK')]"
      ]
     },
     "execution_count": 24,
     "metadata": {},
     "output_type": "execute_result"
    }
   ],
   "source": [
    "### Searching for Patterns ###\n",
    "cursor.execute('select ename, job from emp where deptno in (10,20)\\\n",
    "and (ename like \"%I%\" or job like \"%ER\")').fetchall()"
   ]
  },
  {
   "cell_type": "code",
   "execution_count": 26,
   "metadata": {},
   "outputs": [
    {
     "data": {
      "text/plain": [
       "[('MILLER', 'CLERK', 1300.0),\n",
       " ('CLARK', 'MANAGER', 2450.0),\n",
       " ('KING', 'PRESIDENT', 5000.0)]"
      ]
     },
     "execution_count": 26,
     "metadata": {},
     "output_type": "execute_result"
    }
   ],
   "source": [
    "#### Order by ###\n",
    "cursor.execute('select ename,job,sal from emp\\\n",
    "    where deptno = 10\\\n",
    "    order by sal asc').fetchall()"
   ]
  },
  {
   "cell_type": "code",
   "execution_count": 75,
   "metadata": {},
   "outputs": [
    {
     "data": {
      "text/plain": [
       "[(7839, 10, 5000.0, 'KING', 'PRESIDENT'),\n",
       " (7782, 10, 2450.0, 'CLARK', 'MANAGER'),\n",
       " (7934, 10, 1300.0, 'MILLER', 'CLERK'),\n",
       " (7788, 20, 3300.0000000000005, 'SCOTT', 'ANALYST'),\n",
       " (7902, 20, 3300.0000000000005, 'FORD', 'ANALYST'),\n",
       " (7566, 20, 3272.5000000000005, 'JONES', 'MANAGER'),\n",
       " (7876, 20, 1210.0, 'ADAMS', 'CLERK'),\n",
       " (7369, 20, 880.0000000000001, 'SMITH', 'CLERK'),\n",
       " (7698, 30, 2850.0, 'BLAKE', 'MANAGER'),\n",
       " (7499, 30, 1600.0, 'ALLEN', 'SALESMAN'),\n",
       " (7844, 30, 1500.0, 'TURNER', 'SALESMAN'),\n",
       " (7654, 30, 1400.0, 'MARTIN', 'SALESMAN'),\n",
       " (7521, 30, 1250.0, 'WARD', 'SALESMAN'),\n",
       " (7900, 30, 950.0, 'JAMES', 'CLERK')]"
      ]
     },
     "execution_count": 75,
     "metadata": {},
     "output_type": "execute_result"
    }
   ],
   "source": [
    "#### Order By #####\n",
    "cursor.execute('select empno,deptno,sal,ename,job\\\n",
    "    from emp\\\n",
    "    order by deptno, sal desc').fetchall()"
   ]
  },
  {
   "cell_type": "code",
   "execution_count": null,
   "metadata": {},
   "outputs": [],
   "source": []
  },
  {
   "cell_type": "code",
   "execution_count": null,
   "metadata": {},
   "outputs": [],
   "source": [
    "#### HANDS ON #########"
   ]
  },
  {
   "cell_type": "code",
   "execution_count": 169,
   "metadata": {},
   "outputs": [],
   "source": [
    "### Relembrando o types de cada Tabela \n"
   ]
  },
  {
   "cell_type": "code",
   "execution_count": null,
   "metadata": {},
   "outputs": [],
   "source": []
  },
  {
   "cell_type": "code",
   "execution_count": 170,
   "metadata": {},
   "outputs": [],
   "source": [
    "#### Realizar alguns SELECTS ##### \n",
    "###  Por exemplo Location = New York \n",
    "#### ----- #####"
   ]
  },
  {
   "cell_type": "code",
   "execution_count": 171,
   "metadata": {},
   "outputs": [],
   "source": [
    "#### ORDER BY SUBSTRING ##### \n",
    "### substr( string, start, length ) ##### \n"
   ]
  },
  {
   "cell_type": "code",
   "execution_count": 172,
   "metadata": {},
   "outputs": [],
   "source": [
    "#### selecionar nomes terminando com rk ou th\n"
   ]
  },
  {
   "cell_type": "code",
   "execution_count": 203,
   "metadata": {},
   "outputs": [],
   "source": [
    "#### SELECT \n",
    "###. group by using native functions - COUNT and AVG\n",
    "###  O que quero selecionar (atributos) \n",
    "### Por quem quero agrupar \n",
    "\n",
    "\n"
   ]
  },
  {
   "cell_type": "code",
   "execution_count": 187,
   "metadata": {},
   "outputs": [],
   "source": [
    "#### SELECT IN SELECT (SUBQUERIES)\n",
    "### Usar o resultado de um select como clausula de comparação para outro select \n"
   ]
  },
  {
   "cell_type": "markdown",
   "metadata": {},
   "source": [
    "### Quero obter o resultado abaixo, no entanto os atributos são de colunas diferentes\n",
    "\n",
    " \n",
    "ENAME       LOC\\\n",
    "----------  ----------\\\n",
    "CLARK        NEW YORK\\\n",
    "KING         NEW YORK\\\n",
    "MILLER       NEW YORK"
   ]
  },
  {
   "cell_type": "code",
   "execution_count": 200,
   "metadata": {},
   "outputs": [],
   "source": [
    "### Possível solução #### \n"
   ]
  },
  {
   "cell_type": "code",
   "execution_count": 201,
   "metadata": {},
   "outputs": [],
   "source": [
    "### Selecionar todos os infos dos empregados e departamentos - mesmo departamentos_ID\n",
    "\n"
   ]
  },
  {
   "cell_type": "code",
   "execution_count": null,
   "metadata": {},
   "outputs": [],
   "source": []
  },
  {
   "cell_type": "code",
   "execution_count": 202,
   "metadata": {},
   "outputs": [],
   "source": [
    "### Selecionar somente os Nomes dos empregados e os nomes dos departamentos - \n",
    "\n"
   ]
  },
  {
   "cell_type": "code",
   "execution_count": null,
   "metadata": {},
   "outputs": [],
   "source": []
  },
  {
   "cell_type": "code",
   "execution_count": null,
   "metadata": {},
   "outputs": [],
   "source": []
  },
  {
   "cell_type": "code",
   "execution_count": null,
   "metadata": {},
   "outputs": [],
   "source": []
  }
 ],
 "metadata": {
  "kernelspec": {
   "display_name": "Python 3",
   "language": "python",
   "name": "python3"
  },
  "language_info": {
   "codemirror_mode": {
    "name": "ipython",
    "version": 3
   },
   "file_extension": ".py",
   "mimetype": "text/x-python",
   "name": "python",
   "nbconvert_exporter": "python",
   "pygments_lexer": "ipython3",
   "version": "3.8.5"
  }
 },
 "nbformat": 4,
 "nbformat_minor": 4
}
