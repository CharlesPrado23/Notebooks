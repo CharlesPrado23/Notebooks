{
 "cells": [
  {
   "cell_type": "code",
   "execution_count": null,
   "metadata": {},
   "outputs": [],
   "source": [
    "import sqlite3\n",
    "engine = sqlite3.connect('example1.db')"
   ]
  },
  {
   "cell_type": "code",
   "execution_count": null,
   "metadata": {},
   "outputs": [],
   "source": [
    "cursor = engine.cursor()\n",
    "cursor.execute(\"PRAGMA foreign_keys = ON\").fetchall()\n",
    "\n",
    "### Habilita o uso de chaves estrangeiras ######"
   ]
  },
  {
   "cell_type": "code",
   "execution_count": null,
   "metadata": {},
   "outputs": [],
   "source": [
    "sql_create_projects_table = \"\"\" CREATE TABLE IF NOT EXISTS projects (\n",
    "                                        id integer PRIMARY KEY,\n",
    "                                        name text NOT NULL,\n",
    "                                        begin_date text,\n",
    "                                        end_date text\n",
    "                                    ); \"\"\""
   ]
  },
  {
   "cell_type": "code",
   "execution_count": null,
   "metadata": {},
   "outputs": [],
   "source": [
    "sql_create_tasks_table = \"\"\"CREATE TABLE IF NOT EXISTS tasks (\n",
    "                                    id integer PRIMARY KEY,\n",
    "                                    name text NOT NULL,\n",
    "                                    priority integer,\n",
    "                                    status_id integer NOT NULL,\n",
    "                                    project_id integer NOT NULL REFERENCES projects (id),\n",
    "                                    begin_date text NOT NULL,\n",
    "                                    end_date text NOT NULL\n",
    "                                );\"\"\"\n",
    "# StudentId INT REFERENCES Student (StudentId)\n",
    "#FOREIGN KEY (project_id) REFERENCES projects (id)"
   ]
  },
  {
   "cell_type": "code",
   "execution_count": null,
   "metadata": {},
   "outputs": [],
   "source": [
    "cursor.execute(sql_create_projects_table)"
   ]
  },
  {
   "cell_type": "code",
   "execution_count": null,
   "metadata": {},
   "outputs": [],
   "source": [
    "cursor.execute(sql_create_tasks_table)"
   ]
  },
  {
   "cell_type": "code",
   "execution_count": null,
   "metadata": {},
   "outputs": [],
   "source": [
    "data = cursor.execute(\"PRAGMA table_info(projects)\").fetchall()\n",
    "for d in data:\n",
    "    print (d[0], d[1], d[2])"
   ]
  },
  {
   "cell_type": "code",
   "execution_count": null,
   "metadata": {},
   "outputs": [],
   "source": [
    "data = cursor.execute(\"PRAGMA table_info(tasks)\").fetchall()\n",
    "for d in data:\n",
    "    print (d[0], d[1],d[2])"
   ]
  },
  {
   "cell_type": "code",
   "execution_count": null,
   "metadata": {},
   "outputs": [],
   "source": [
    "cursor.execute(\"INSERT INTO projects (name,begin_date,end_date) VALUES ('Project03','2021-02-23','2021-03-23')\")"
   ]
  },
  {
   "cell_type": "code",
   "execution_count": null,
   "metadata": {},
   "outputs": [],
   "source": [
    "engine.commit()"
   ]
  },
  {
   "cell_type": "code",
   "execution_count": null,
   "metadata": {},
   "outputs": [],
   "source": [
    "cursor.execute('SELECT * FROM projects ').fetchall()"
   ]
  },
  {
   "cell_type": "code",
   "execution_count": null,
   "metadata": {},
   "outputs": [],
   "source": [
    "cursor.execute(\"INSERT INTO tasks (name,priority,status_id,project_id,begin_date,end_date)\\\n",
    "    VALUES ('task05',0,1,10,'2021-02-23','2021-03-23')\")\n",
    "\n",
    "## Observe que o project_id =10 provocará um erro de referência - não existe nenhum projeto\n",
    "## na tabela 'projects' cujo id é 10. \n",
    "## Verifique o erro abaixo e depois corrija o valor do project_id para um valor existente"
   ]
  },
  {
   "cell_type": "code",
   "execution_count": null,
   "metadata": {},
   "outputs": [],
   "source": [
    "cursor.execute(\"SELECT * from tasks\").fetchall()"
   ]
  },
  {
   "cell_type": "code",
   "execution_count": null,
   "metadata": {},
   "outputs": [],
   "source": []
  }
 ],
 "metadata": {
  "kernelspec": {
   "display_name": "Python 3",
   "language": "python",
   "name": "python3"
  },
  "language_info": {
   "codemirror_mode": {
    "name": "ipython",
    "version": 3
   },
   "file_extension": ".py",
   "mimetype": "text/x-python",
   "name": "python",
   "nbconvert_exporter": "python",
   "pygments_lexer": "ipython3",
   "version": "3.8.5"
  }
 },
 "nbformat": 4,
 "nbformat_minor": 4
}
