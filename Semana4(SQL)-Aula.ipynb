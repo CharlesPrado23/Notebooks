{
 "cells": [
  {
   "cell_type": "code",
   "execution_count": 1,
   "metadata": {},
   "outputs": [],
   "source": [
    "import sqlite3\n",
    "engine = sqlite3.connect('example10.db')"
   ]
  },
  {
   "cell_type": "code",
   "execution_count": 2,
   "metadata": {},
   "outputs": [
    {
     "data": {
      "text/plain": [
       "[(0,)]"
      ]
     },
     "execution_count": 2,
     "metadata": {},
     "output_type": "execute_result"
    }
   ],
   "source": [
    "cursor = engine.cursor()\n",
    "cursor.execute(\"PRAGMA foreign_keys\").fetchall()"
   ]
  },
  {
   "cell_type": "code",
   "execution_count": 19,
   "metadata": {},
   "outputs": [],
   "source": [
    "sql_create_projects_table = \"\"\" CREATE TABLE IF NOT EXISTS projects (\n",
    "                                        id integer PRIMARY KEY,\n",
    "                                        name text NOT NULL,\n",
    "                                        begin_date text,\n",
    "                                        end_date text\n",
    "                                    ); \"\"\""
   ]
  },
  {
   "cell_type": "code",
   "execution_count": 20,
   "metadata": {},
   "outputs": [],
   "source": [
    "sql_create_tasks_table = \"\"\"CREATE TABLE IF NOT EXISTS tasks (\n",
    "                                    id integer PRIMARY KEY,\n",
    "                                    name text NOT NULL,\n",
    "                                    priority integer,\n",
    "                                    status_id integer NOT NULL,\n",
    "                                    project_id integer NOT NULL REFERENCES projects (id),\n",
    "                                    begin_date text NOT NULL,\n",
    "                                    end_date text NOT NULL\n",
    "                                );\"\"\"\n",
    "# StudentId INT REFERENCES Student (StudentId)\n",
    "#FOREIGN KEY (project_id) REFERENCES projects (id)"
   ]
  },
  {
   "cell_type": "code",
   "execution_count": 21,
   "metadata": {},
   "outputs": [
    {
     "data": {
      "text/plain": [
       "<sqlite3.Cursor at 0x10b580c00>"
      ]
     },
     "execution_count": 21,
     "metadata": {},
     "output_type": "execute_result"
    }
   ],
   "source": [
    "cursor.execute(sql_create_projects_table)"
   ]
  },
  {
   "cell_type": "code",
   "execution_count": 22,
   "metadata": {},
   "outputs": [
    {
     "data": {
      "text/plain": [
       "<sqlite3.Cursor at 0x10b580c00>"
      ]
     },
     "execution_count": 22,
     "metadata": {},
     "output_type": "execute_result"
    }
   ],
   "source": [
    "cursor.execute(sql_create_tasks_table)"
   ]
  },
  {
   "cell_type": "code",
   "execution_count": 7,
   "metadata": {},
   "outputs": [
    {
     "name": "stdout",
     "output_type": "stream",
     "text": [
      "0 id integer\n",
      "1 name text\n",
      "2 begin_date text\n",
      "3 end_date text\n"
     ]
    }
   ],
   "source": [
    "data = cursor.execute(\"PRAGMA table_info(projects)\").fetchall()\n",
    "for d in data:\n",
    "    print (d[0], d[1], d[2])"
   ]
  },
  {
   "cell_type": "code",
   "execution_count": 24,
   "metadata": {},
   "outputs": [
    {
     "name": "stdout",
     "output_type": "stream",
     "text": [
      "0 id integer\n",
      "1 name text\n",
      "2 priority integer\n",
      "3 status_id integer\n",
      "4 project_id integer\n",
      "5 begin_date text\n",
      "6 end_date text\n"
     ]
    }
   ],
   "source": [
    "data = cursor.execute(\"PRAGMA table_info(tasks)\").fetchall()\n",
    "for d in data:\n",
    "    print (d[0], d[1],d[2])"
   ]
  },
  {
   "cell_type": "code",
   "execution_count": 25,
   "metadata": {},
   "outputs": [
    {
     "data": {
      "text/plain": [
       "<sqlite3.Cursor at 0x10b580c00>"
      ]
     },
     "execution_count": 25,
     "metadata": {},
     "output_type": "execute_result"
    }
   ],
   "source": [
    "cursor.execute(\"INSERT INTO projects (name,begin_date,end_date) VALUES ('Project03','2021-02-23','2021-03-23')\")"
   ]
  },
  {
   "cell_type": "code",
   "execution_count": 26,
   "metadata": {},
   "outputs": [],
   "source": [
    "engine.commit()"
   ]
  },
  {
   "cell_type": "code",
   "execution_count": 27,
   "metadata": {},
   "outputs": [
    {
     "data": {
      "text/plain": [
       "[(1, 'Project03', '2021-02-23', '2021-03-23')]"
      ]
     },
     "execution_count": 27,
     "metadata": {},
     "output_type": "execute_result"
    }
   ],
   "source": [
    "cursor.execute('SELECT * FROM projects ').fetchall()"
   ]
  },
  {
   "cell_type": "code",
   "execution_count": 29,
   "metadata": {},
   "outputs": [
    {
     "data": {
      "text/plain": [
       "<sqlite3.Cursor at 0x10b580c00>"
      ]
     },
     "execution_count": 29,
     "metadata": {},
     "output_type": "execute_result"
    }
   ],
   "source": [
    "cursor.execute(\"INSERT INTO tasks (name,priority,status_id,project_id,begin_date,end_date)\\\n",
    "    VALUES ('task05',0,1,10,'2021-02-23','2021-03-23')\")"
   ]
  },
  {
   "cell_type": "code",
   "execution_count": 30,
   "metadata": {},
   "outputs": [],
   "source": [
    "#tasks=[(1,'task01',0,1,0,'2021-02-23','2021-03-23'), (2,'task02',0,1,0,'2021-02-23','2021-03-23')]\n",
    "#cursor.executemany('INSERT INTO tasks VALUES (?,?,?,?,?,?,?)', tasks)"
   ]
  },
  {
   "cell_type": "code",
   "execution_count": 31,
   "metadata": {},
   "outputs": [
    {
     "data": {
      "text/plain": [
       "[(1, 'task05', 0, 1, 1, '2021-02-23', '2021-03-23')]"
      ]
     },
     "execution_count": 31,
     "metadata": {},
     "output_type": "execute_result"
    }
   ],
   "source": [
    "cursor.execute(\"SELECT * from tasks\").fetchall()"
   ]
  },
  {
   "cell_type": "code",
   "execution_count": null,
   "metadata": {},
   "outputs": [],
   "source": []
  },
  {
   "cell_type": "code",
   "execution_count": null,
   "metadata": {},
   "outputs": [],
   "source": []
  },
  {
   "cell_type": "code",
   "execution_count": 3,
   "metadata": {},
   "outputs": [
    {
     "data": {
      "text/plain": [
       "<sqlite3.Cursor at 0x105224f10>"
      ]
     },
     "execution_count": 3,
     "metadata": {},
     "output_type": "execute_result"
    }
   ],
   "source": [
    "cursor.execute('''CREATE TABLE EMP\n",
    "             (EMPNO int, ENAME text, JOB text, MGR int, HIREDATE date, SAL real,COMM int, DEPTNO int)''')"
   ]
  },
  {
   "cell_type": "code",
   "execution_count": 33,
   "metadata": {},
   "outputs": [
    {
     "name": "stdout",
     "output_type": "stream",
     "text": [
      "0 EMPNO int\n",
      "1 ENAME text\n",
      "2 JOB text\n",
      "3 MGR int\n",
      "4 HIREDATE date\n",
      "5 SAL real\n",
      "6 COMM int\n",
      "7 DEPTNO int\n"
     ]
    }
   ],
   "source": [
    "data = cursor.execute(\"PRAGMA table_info(EMP)\").fetchall()\n",
    "for d in data:\n",
    "    print (d[0], d[1], d[2])"
   ]
  },
  {
   "cell_type": "code",
   "execution_count": 34,
   "metadata": {},
   "outputs": [],
   "source": [
    " employes = [(7369, 'SMITH',  'CLERK', 7902, '2005-12-11', 800, 150 , 20),\n",
    " (7499, 'ALLEN',  'SALESMAN', 7698, '2006-02-23',1600, 300, 30),\n",
    " (7521, 'WARD', 'SALESMAN', 7698,'2006-02-26', 1250, 500, 30),\n",
    " (7566, 'JONES','MANAGER', 7839,'2006-04-02', 2975, 520, 20),            \n",
    " (7654, 'MARTIN','SALESMAN', 7698,'2006-09-28', 1400, 420, 30),\n",
    " (7698, 'BLAKE','MANAGER', 7839,'2006-05-1', 2850, 600, 30),\n",
    " (7782, 'CLARK', 'MANAGER', 7839, '2006-06-09',2450, 580,10),\n",
    " (7788, 'SCOTT', 'ANALYST', 7566,'2007-12-09',3000,640,20),\n",
    " (7839, 'KING','PRESIDENT','', '2006-11-17',5000,0,10),\n",
    " (7844, 'TURNER', 'SALESMAN',7698,'2006-09-13',1500,0,30),\n",
    " (7876, 'ADAMS', 'CLERK',7788, '2008-01-12',1100,50,20),\n",
    " (7900, 'JAMES', 'CLERK',7698, '2006-12-03',950,40,30),\n",
    " (7902, 'FORD', 'ANALYST',7566,'2006-12-03',3000,10,20),\n",
    " (7934, 'MILLER','CLERK',7782,'2007-01-23',1300,\"\",10)]"
   ]
  },
  {
   "cell_type": "code",
   "execution_count": 35,
   "metadata": {},
   "outputs": [
    {
     "data": {
      "text/plain": [
       "<sqlite3.Cursor at 0x105224f10>"
      ]
     },
     "execution_count": 35,
     "metadata": {},
     "output_type": "execute_result"
    }
   ],
   "source": [
    "cursor.executemany('INSERT INTO EMP VALUES (?,?,?,?,?,?,?,?)', employes)"
   ]
  },
  {
   "cell_type": "code",
   "execution_count": 36,
   "metadata": {},
   "outputs": [
    {
     "data": {
      "text/plain": [
       "[(7369, 'SMITH', 'CLERK', 7902, '2005-12-11', 800.0, 150, 20),\n",
       " (7499, 'ALLEN', 'SALESMAN', 7698, '2006-02-23', 1600.0, 300, 30),\n",
       " (7521, 'WARD', 'SALESMAN', 7698, '2006-02-26', 1250.0, 500, 30),\n",
       " (7566, 'JONES', 'MANAGER', 7839, '2006-04-02', 2975.0, 520, 20),\n",
       " (7654, 'MARTIN', 'SALESMAN', 7698, '2006-09-28', 1400.0, 420, 30),\n",
       " (7698, 'BLAKE', 'MANAGER', 7839, '2006-05-1', 2850.0, 600, 30),\n",
       " (7782, 'CLARK', 'MANAGER', 7839, '2006-06-09', 2450.0, 580, 10),\n",
       " (7788, 'SCOTT', 'ANALYST', 7566, '2007-12-09', 3000.0, 640, 20),\n",
       " (7839, 'KING', 'PRESIDENT', '', '2006-11-17', 5000.0, 0, 10),\n",
       " (7844, 'TURNER', 'SALESMAN', 7698, '2006-09-13', 1500.0, 0, 30),\n",
       " (7876, 'ADAMS', 'CLERK', 7788, '2008-01-12', 1100.0, 50, 20),\n",
       " (7900, 'JAMES', 'CLERK', 7698, '2006-12-03', 950.0, 40, 30),\n",
       " (7902, 'FORD', 'ANALYST', 7566, '2006-12-03', 3000.0, 10, 20),\n",
       " (7934, 'MILLER', 'CLERK', 7782, '2007-01-23', 1300.0, 50, 10),\n",
       " (7369, 'SMITH', 'CLERK', 7902, '2005-12-11', 800.0, 150, 20),\n",
       " (7499, 'ALLEN', 'SALESMAN', 7698, '2006-02-23', 1600.0, 300, 30),\n",
       " (7521, 'WARD', 'SALESMAN', 7698, '2006-02-26', 1250.0, 500, 30),\n",
       " (7566, 'JONES', 'MANAGER', 7839, '2006-04-02', 2975.0, 520, 20),\n",
       " (7654, 'MARTIN', 'SALESMAN', 7698, '2006-09-28', 1400.0, 420, 30),\n",
       " (7698, 'BLAKE', 'MANAGER', 7839, '2006-05-1', 2850.0, 600, 30),\n",
       " (7782, 'CLARK', 'MANAGER', 7839, '2006-06-09', 2450.0, 580, 10),\n",
       " (7788, 'SCOTT', 'ANALYST', 7566, '2007-12-09', 3000.0, 640, 20),\n",
       " (7839, 'KING', 'PRESIDENT', '', '2006-11-17', 5000.0, 0, 10),\n",
       " (7844, 'TURNER', 'SALESMAN', 7698, '2006-09-13', 1500.0, 0, 30),\n",
       " (7876, 'ADAMS', 'CLERK', 7788, '2008-01-12', 1100.0, 50, 20),\n",
       " (7900, 'JAMES', 'CLERK', 7698, '2006-12-03', 950.0, 40, 30),\n",
       " (7902, 'FORD', 'ANALYST', 7566, '2006-12-03', 3000.0, 10, 20),\n",
       " (7934, 'MILLER', 'CLERK', 7782, '2007-01-23', 1300.0, '', 10)]"
      ]
     },
     "execution_count": 36,
     "metadata": {},
     "output_type": "execute_result"
    }
   ],
   "source": [
    "cursor.execute('SELECT * FROM EMP').fetchall()"
   ]
  },
  {
   "cell_type": "code",
   "execution_count": 37,
   "metadata": {},
   "outputs": [
    {
     "ename": "OperationalError",
     "evalue": "table DEPT already exists",
     "output_type": "error",
     "traceback": [
      "\u001b[0;31m---------------------------------------------------------------------------\u001b[0m",
      "\u001b[0;31mOperationalError\u001b[0m                          Traceback (most recent call last)",
      "\u001b[0;32m<ipython-input-37-c1f61eb26e37>\u001b[0m in \u001b[0;36m<module>\u001b[0;34m\u001b[0m\n\u001b[0;32m----> 1\u001b[0;31m cursor.execute('''CREATE TABLE DEPT\n\u001b[0m\u001b[1;32m      2\u001b[0m              (DEPTNO int not null, DNAME  text, LOC text)''')\n",
      "\u001b[0;31mOperationalError\u001b[0m: table DEPT already exists"
     ]
    }
   ],
   "source": [
    "cursor.execute('''CREATE TABLE DEPT\n",
    "             (DEPTNO int not null, DNAME  text, LOC text)''')"
   ]
  },
  {
   "cell_type": "code",
   "execution_count": 38,
   "metadata": {},
   "outputs": [],
   "source": [
    "depts = [(10,'ACCOUNTING','NEW YORK'),\n",
    "         (20,'RESEARCH','DALLAS'),\n",
    "         (30,'SALES','CHICAGO'),\n",
    "         (40,'OPERATIONS','BOSTON')] \n"
   ]
  },
  {
   "cell_type": "code",
   "execution_count": 58,
   "metadata": {},
   "outputs": [
    {
     "data": {
      "text/plain": [
       "list"
      ]
     },
     "execution_count": 58,
     "metadata": {},
     "output_type": "execute_result"
    }
   ],
   "source": [
    "type(depts)"
   ]
  },
  {
   "cell_type": "code",
   "execution_count": 39,
   "metadata": {},
   "outputs": [
    {
     "data": {
      "text/plain": [
       "<sqlite3.Cursor at 0x105224f10>"
      ]
     },
     "execution_count": 39,
     "metadata": {},
     "output_type": "execute_result"
    }
   ],
   "source": [
    "cursor.executemany('INSERT INTO DEPT VALUES (?,?,?)', depts)"
   ]
  },
  {
   "cell_type": "code",
   "execution_count": 40,
   "metadata": {},
   "outputs": [
    {
     "data": {
      "text/plain": [
       "[(10, 'ACCOUNTING', 'NEW YORK'),\n",
       " (20, 'RESEARCH', 'DALLAS'),\n",
       " (30, 'SALES', 'CHICAGO'),\n",
       " (40, 'OPERATIONS', 'BOSTON'),\n",
       " (10, 'ACCOUNTING', 'NEW YORK'),\n",
       " (20, 'RESEARCH', 'DALLAS'),\n",
       " (30, 'SALES', 'CHICAGO'),\n",
       " (40, 'OPERATIONS', 'BOSTON')]"
      ]
     },
     "execution_count": 40,
     "metadata": {},
     "output_type": "execute_result"
    }
   ],
   "source": [
    "cursor.execute('SELECT * FROM DEPT').fetchall()"
   ]
  },
  {
   "cell_type": "code",
   "execution_count": 41,
   "metadata": {},
   "outputs": [
    {
     "data": {
      "text/plain": [
       "[(7369, 'SMITH', 'CLERK', 800.0, 7902, '2005-12-11', 150, 20),\n",
       " (7499, 'ALLEN', 'SALESMAN', 1600.0, 7698, '2006-02-23', 300, 30),\n",
       " (7521, 'WARD', 'SALESMAN', 1250.0, 7698, '2006-02-26', 500, 30),\n",
       " (7566, 'JONES', 'MANAGER', 2975.0, 7839, '2006-04-02', 520, 20),\n",
       " (7654, 'MARTIN', 'SALESMAN', 1400.0, 7698, '2006-09-28', 420, 30),\n",
       " (7698, 'BLAKE', 'MANAGER', 2850.0, 7839, '2006-05-1', 600, 30),\n",
       " (7782, 'CLARK', 'MANAGER', 2450.0, 7839, '2006-06-09', 580, 10),\n",
       " (7788, 'SCOTT', 'ANALYST', 3000.0, 7566, '2007-12-09', 640, 20),\n",
       " (7839, 'KING', 'PRESIDENT', 5000.0, '', '2006-11-17', 0, 10),\n",
       " (7844, 'TURNER', 'SALESMAN', 1500.0, 7698, '2006-09-13', 0, 30),\n",
       " (7876, 'ADAMS', 'CLERK', 1100.0, 7788, '2008-01-12', 50, 20),\n",
       " (7900, 'JAMES', 'CLERK', 950.0, 7698, '2006-12-03', 40, 30),\n",
       " (7902, 'FORD', 'ANALYST', 3000.0, 7566, '2006-12-03', 10, 20),\n",
       " (7934, 'MILLER', 'CLERK', 1300.0, 7782, '2007-01-23', 50, 10),\n",
       " (7369, 'SMITH', 'CLERK', 800.0, 7902, '2005-12-11', 150, 20),\n",
       " (7499, 'ALLEN', 'SALESMAN', 1600.0, 7698, '2006-02-23', 300, 30),\n",
       " (7521, 'WARD', 'SALESMAN', 1250.0, 7698, '2006-02-26', 500, 30),\n",
       " (7566, 'JONES', 'MANAGER', 2975.0, 7839, '2006-04-02', 520, 20),\n",
       " (7654, 'MARTIN', 'SALESMAN', 1400.0, 7698, '2006-09-28', 420, 30),\n",
       " (7698, 'BLAKE', 'MANAGER', 2850.0, 7839, '2006-05-1', 600, 30),\n",
       " (7782, 'CLARK', 'MANAGER', 2450.0, 7839, '2006-06-09', 580, 10),\n",
       " (7788, 'SCOTT', 'ANALYST', 3000.0, 7566, '2007-12-09', 640, 20),\n",
       " (7839, 'KING', 'PRESIDENT', 5000.0, '', '2006-11-17', 0, 10),\n",
       " (7844, 'TURNER', 'SALESMAN', 1500.0, 7698, '2006-09-13', 0, 30),\n",
       " (7876, 'ADAMS', 'CLERK', 1100.0, 7788, '2008-01-12', 50, 20),\n",
       " (7900, 'JAMES', 'CLERK', 950.0, 7698, '2006-12-03', 40, 30),\n",
       " (7902, 'FORD', 'ANALYST', 3000.0, 7566, '2006-12-03', 10, 20),\n",
       " (7934, 'MILLER', 'CLERK', 1300.0, 7782, '2007-01-23', '', 10)]"
      ]
     },
     "execution_count": 41,
     "metadata": {},
     "output_type": "execute_result"
    }
   ],
   "source": [
    "### SELECT - Filtrando por atributos (Colunas) ##### \n",
    "cursor.execute('select empno,ename,job,sal,mgr,hiredate,comm,deptno from emp').fetchall()"
   ]
  },
  {
   "cell_type": "code",
   "execution_count": 42,
   "metadata": {},
   "outputs": [
    {
     "data": {
      "text/plain": [
       "[(7369, 'SMITH', 'CLERK', 7902, '2005-12-11', 800.0, 150, 20),\n",
       " (7566, 'JONES', 'MANAGER', 7839, '2006-04-02', 2975.0, 520, 20),\n",
       " (7788, 'SCOTT', 'ANALYST', 7566, '2007-12-09', 3000.0, 640, 20),\n",
       " (7876, 'ADAMS', 'CLERK', 7788, '2008-01-12', 1100.0, 50, 20),\n",
       " (7902, 'FORD', 'ANALYST', 7566, '2006-12-03', 3000.0, 10, 20),\n",
       " (7369, 'SMITH', 'CLERK', 7902, '2005-12-11', 800.0, 150, 20),\n",
       " (7566, 'JONES', 'MANAGER', 7839, '2006-04-02', 2975.0, 520, 20),\n",
       " (7788, 'SCOTT', 'ANALYST', 7566, '2007-12-09', 3000.0, 640, 20),\n",
       " (7876, 'ADAMS', 'CLERK', 7788, '2008-01-12', 1100.0, 50, 20),\n",
       " (7902, 'FORD', 'ANALYST', 7566, '2006-12-03', 3000.0, 10, 20)]"
      ]
     },
     "execution_count": 42,
     "metadata": {},
     "output_type": "execute_result"
    }
   ],
   "source": [
    "### Retrieving a Subset of Rows from a Table #### \n",
    "cursor.execute('select * from emp where deptno = 20').fetchall()"
   ]
  },
  {
   "cell_type": "code",
   "execution_count": 43,
   "metadata": {},
   "outputs": [
    {
     "data": {
      "text/plain": [
       "[('CLARK', 'MANAGER'),\n",
       " ('KING', 'PRESIDENT'),\n",
       " ('MILLER', 'CLERK'),\n",
       " ('CLARK', 'MANAGER'),\n",
       " ('KING', 'PRESIDENT'),\n",
       " ('MILLER', 'CLERK')]"
      ]
     },
     "execution_count": 43,
     "metadata": {},
     "output_type": "execute_result"
    }
   ],
   "source": [
    "### Using Where #### \n",
    "cursor.execute('select ename, job from emp where deptno = 10').fetchall()"
   ]
  },
  {
   "cell_type": "code",
   "execution_count": 44,
   "metadata": {},
   "outputs": [
    {
     "name": "stdout",
     "output_type": "stream",
     "text": [
      "Name, Salary, Status\n",
      "SMITH 800.0 UNDERPAID\n",
      "ALLEN 1600.0 UNDERPAID\n",
      "WARD 1250.0 UNDERPAID\n",
      "JONES 2975.0 OK\n",
      "MARTIN 1400.0 UNDERPAID\n",
      "BLAKE 2850.0 OK\n",
      "CLARK 2450.0 OK\n",
      "SCOTT 3000.0 OK\n",
      "KING 5000.0 OVERPAID\n",
      "TURNER 1500.0 UNDERPAID\n",
      "ADAMS 1100.0 UNDERPAID\n",
      "JAMES 950.0 UNDERPAID\n",
      "FORD 3000.0 OK\n",
      "MILLER 1300.0 UNDERPAID\n",
      "SMITH 800.0 UNDERPAID\n",
      "ALLEN 1600.0 UNDERPAID\n",
      "WARD 1250.0 UNDERPAID\n",
      "JONES 2975.0 OK\n",
      "MARTIN 1400.0 UNDERPAID\n",
      "BLAKE 2850.0 OK\n",
      "CLARK 2450.0 OK\n",
      "SCOTT 3000.0 OK\n",
      "KING 5000.0 OVERPAID\n",
      "TURNER 1500.0 UNDERPAID\n",
      "ADAMS 1100.0 UNDERPAID\n",
      "JAMES 950.0 UNDERPAID\n",
      "FORD 3000.0 OK\n",
      "MILLER 1300.0 UNDERPAID\n"
     ]
    }
   ],
   "source": [
    "### Using Conditional Logic in a SELECT Statement #### \n",
    "data = cursor.execute('select ename,sal, case when sal <= 2000 then \"UNDERPAID\"\\\n",
    "                when sal >= 4000 then \"OVERPAID\"\\\n",
    "                else \"OK\" end as status from emp').fetchall()\n",
    "print(\"Name, Salary, Status\")\n",
    "for d in data: \n",
    "    print (d[0], d[1], d[2])"
   ]
  },
  {
   "cell_type": "code",
   "execution_count": 45,
   "metadata": {},
   "outputs": [
    {
     "data": {
      "text/plain": [
       "[(7369, 'SMITH', 'CLERK', 7902, '2005-12-11', 800.0, 150, 20),\n",
       " (7499, 'ALLEN', 'SALESMAN', 7698, '2006-02-23', 1600.0, 300, 30),\n",
       " (7521, 'WARD', 'SALESMAN', 7698, '2006-02-26', 1250.0, 500, 30),\n",
       " (7566, 'JONES', 'MANAGER', 7839, '2006-04-02', 2975.0, 520, 20),\n",
       " (7654, 'MARTIN', 'SALESMAN', 7698, '2006-09-28', 1400.0, 420, 30)]"
      ]
     },
     "execution_count": 45,
     "metadata": {},
     "output_type": "execute_result"
    }
   ],
   "source": [
    "### Limiting the Number of Rows Returned #### \n",
    "cursor.execute('select * from emp limit 5').fetchall()"
   ]
  },
  {
   "cell_type": "code",
   "execution_count": 46,
   "metadata": {},
   "outputs": [
    {
     "data": {
      "text/plain": [
       "[('BLAKE', 'MANAGER'),\n",
       " ('MILLER', 'CLERK'),\n",
       " ('ALLEN', 'SALESMAN'),\n",
       " ('TURNER', 'SALESMAN'),\n",
       " ('FORD', 'ANALYST')]"
      ]
     },
     "execution_count": 46,
     "metadata": {},
     "output_type": "execute_result"
    }
   ],
   "source": [
    "### Returning Valores aleatórios #####\n",
    "cursor.execute('select ename,job from emp order by random() limit 5').fetchall()"
   ]
  },
  {
   "cell_type": "code",
   "execution_count": 23,
   "metadata": {},
   "outputs": [
    {
     "data": {
      "text/plain": [
       "[('SMITH', 'CLERK'),\n",
       " ('JONES', 'MANAGER'),\n",
       " ('CLARK', 'MANAGER'),\n",
       " ('SCOTT', 'ANALYST'),\n",
       " ('KING', 'PRESIDENT'),\n",
       " ('ADAMS', 'CLERK'),\n",
       " ('FORD', 'ANALYST'),\n",
       " ('MILLER', 'CLERK')]"
      ]
     },
     "execution_count": 23,
     "metadata": {},
     "output_type": "execute_result"
    }
   ],
   "source": [
    "## Searching for Patterns ####\n",
    "cursor.execute('select ename, job from emp where deptno in (10,20)').fetchall()"
   ]
  },
  {
   "cell_type": "code",
   "execution_count": 24,
   "metadata": {},
   "outputs": [
    {
     "data": {
      "text/plain": [
       "[('SMITH', 'CLERK'),\n",
       " ('JONES', 'MANAGER'),\n",
       " ('CLARK', 'MANAGER'),\n",
       " ('KING', 'PRESIDENT'),\n",
       " ('MILLER', 'CLERK')]"
      ]
     },
     "execution_count": 24,
     "metadata": {},
     "output_type": "execute_result"
    }
   ],
   "source": [
    "### Searching for Patterns ###\n",
    "cursor.execute('select ename, job from emp where deptno in (10,20)\\\n",
    "and (ename like \"%I%\" or job like \"%ER\")').fetchall()"
   ]
  },
  {
   "cell_type": "code",
   "execution_count": 26,
   "metadata": {},
   "outputs": [
    {
     "data": {
      "text/plain": [
       "[('MILLER', 'CLERK', 1300.0),\n",
       " ('CLARK', 'MANAGER', 2450.0),\n",
       " ('KING', 'PRESIDENT', 5000.0)]"
      ]
     },
     "execution_count": 26,
     "metadata": {},
     "output_type": "execute_result"
    }
   ],
   "source": [
    "#### Order by ###\n",
    "cursor.execute('select ename,job,sal from emp\\\n",
    "    where deptno = 10\\\n",
    "    order by sal asc').fetchall()"
   ]
  },
  {
   "cell_type": "code",
   "execution_count": 27,
   "metadata": {},
   "outputs": [
    {
     "data": {
      "text/plain": [
       "[(7839, 10, 5000.0, 'KING', 'PRESIDENT'),\n",
       " (7782, 10, 2450.0, 'CLARK', 'MANAGER'),\n",
       " (7934, 10, 1300.0, 'MILLER', 'CLERK'),\n",
       " (7788, 20, 3000.0, 'SCOTT', 'ANALYST'),\n",
       " (7902, 20, 3000.0, 'FORD', 'ANALYST'),\n",
       " (7566, 20, 2975.0, 'JONES', 'MANAGER'),\n",
       " (7876, 20, 1100.0, 'ADAMS', 'CLERK'),\n",
       " (7369, 20, 800.0, 'SMITH', 'CLERK'),\n",
       " (7698, 30, 2850.0, 'BLAKE', 'MANAGER'),\n",
       " (7499, 30, 1600.0, 'ALLEN', 'SALESMAN'),\n",
       " (7844, 30, 1500.0, 'TURNER', 'SALESMAN'),\n",
       " (7654, 30, 1400.0, 'MARTIN', 'SALESMAN'),\n",
       " (7521, 30, 1250.0, 'WARD', 'SALESMAN'),\n",
       " (7900, 30, 950.0, 'JAMES', 'CLERK')]"
      ]
     },
     "execution_count": 27,
     "metadata": {},
     "output_type": "execute_result"
    }
   ],
   "source": [
    "#### Order By #####\n",
    "cursor.execute('select empno,deptno,sal,ename,job\\\n",
    "    from emp\\\n",
    "    order by deptno, sal desc').fetchall()"
   ]
  },
  {
   "cell_type": "code",
   "execution_count": 28,
   "metadata": {},
   "outputs": [
    {
     "data": {
      "text/plain": [
       "[('ALLEN', 'SALESMAN'),\n",
       " ('WARD', 'SALESMAN'),\n",
       " ('MARTIN', 'SALESMAN'),\n",
       " ('TURNER', 'SALESMAN'),\n",
       " ('JONES', 'MANAGER'),\n",
       " ('BLAKE', 'MANAGER'),\n",
       " ('CLARK', 'MANAGER'),\n",
       " ('KING', 'PRESIDENT'),\n",
       " ('SMITH', 'CLERK'),\n",
       " ('ADAMS', 'CLERK'),\n",
       " ('JAMES', 'CLERK'),\n",
       " ('MILLER', 'CLERK'),\n",
       " ('SCOTT', 'ANALYST'),\n",
       " ('FORD', 'ANALYST')]"
      ]
     },
     "execution_count": 28,
     "metadata": {},
     "output_type": "execute_result"
    }
   ],
   "source": [
    "#### ORDER BY SUBSTRING ##### \n",
    "cursor.execute('select ename,job\\\n",
    "  from emp\\\n",
    " order by substr(job,length(job)-1)').fetchall()"
   ]
  },
  {
   "cell_type": "code",
   "execution_count": null,
   "metadata": {},
   "outputs": [],
   "source": []
  }
 ],
 "metadata": {
  "kernelspec": {
   "display_name": "Python 3",
   "language": "python",
   "name": "python3"
  },
  "language_info": {
   "codemirror_mode": {
    "name": "ipython",
    "version": 3
   },
   "file_extension": ".py",
   "mimetype": "text/x-python",
   "name": "python",
   "nbconvert_exporter": "python",
   "pygments_lexer": "ipython3",
   "version": "3.8.5"
  }
 },
 "nbformat": 4,
 "nbformat_minor": 4
}
