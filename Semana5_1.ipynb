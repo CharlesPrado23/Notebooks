{
 "cells": [
  {
   "cell_type": "code",
   "execution_count": null,
   "metadata": {},
   "outputs": [],
   "source": [
    "import pandas as pd\n",
    "import sqlite3 as sql"
   ]
  },
  {
   "cell_type": "code",
   "execution_count": null,
   "metadata": {},
   "outputs": [],
   "source": [
    "engine = sql.connect('temp1000.db')\n",
    "cursor= engine.cursor()"
   ]
  },
  {
   "cell_type": "code",
   "execution_count": null,
   "metadata": {},
   "outputs": [],
   "source": [
    "url = \"https://raw.github.com/pandas-dev/pandas/master/pandas/tests/io/data/csv/tips.csv\"\n",
    "tips = pd.read_csv(url)"
   ]
  },
  {
   "cell_type": "code",
   "execution_count": null,
   "metadata": {},
   "outputs": [],
   "source": [
    "tips.to_sql('tipsDB', con=engine)"
   ]
  },
  {
   "cell_type": "code",
   "execution_count": null,
   "metadata": {},
   "outputs": [],
   "source": [
    "cursor.execute('select * from tipsDB LIMIT 5').fetchall()"
   ]
  },
  {
   "cell_type": "code",
   "execution_count": null,
   "metadata": {},
   "outputs": [],
   "source": [
    "tips.head()"
   ]
  },
  {
   "cell_type": "code",
   "execution_count": null,
   "metadata": {},
   "outputs": [],
   "source": [
    "tips.columns"
   ]
  },
  {
   "cell_type": "code",
   "execution_count": null,
   "metadata": {},
   "outputs": [],
   "source": [
    "cursor.execute('PRAGMA table_info(tipsDB)').fetchall()"
   ]
  },
  {
   "cell_type": "code",
   "execution_count": null,
   "metadata": {},
   "outputs": [],
   "source": [
    "tips.info()"
   ]
  },
  {
   "cell_type": "code",
   "execution_count": null,
   "metadata": {},
   "outputs": [],
   "source": [
    "tips.smoker.map(type)"
   ]
  },
  {
   "cell_type": "code",
   "execution_count": null,
   "metadata": {},
   "outputs": [],
   "source": [
    "sql_select = 'SELECT total_bill, tip, smoker, time\\\n",
    "              FROM tipsDB\\\n",
    "              LIMIT 5'\n",
    "cursor.execute(sql_select).fetchall()"
   ]
  },
  {
   "cell_type": "code",
   "execution_count": null,
   "metadata": {},
   "outputs": [],
   "source": [
    "tips[['total_bill','tip','smoker','time']].head()"
   ]
  },
  {
   "cell_type": "code",
   "execution_count": null,
   "metadata": {},
   "outputs": [],
   "source": [
    "sql_select = 'SELECT *, tip/total_bill as tip_rate\\\n",
    "                FROM tipsDB\\\n",
    "                LIMIT 5'\n",
    "cursor.execute(sql_select)\n",
    "cl_names = []\n",
    "for x in cursor.description: \n",
    "    cl_names.append(x[0])\n",
    "\n",
    "\n",
    "print(cl_names)\n",
    "for row in cursor.fetchall():\n",
    "    print(row)\n"
   ]
  },
  {
   "cell_type": "code",
   "execution_count": null,
   "metadata": {},
   "outputs": [],
   "source": [
    "tips.assign(tip_rate=tips[\"tip\"] / tips[\"total_bill\"]).head(5)"
   ]
  },
  {
   "cell_type": "code",
   "execution_count": null,
   "metadata": {},
   "outputs": [],
   "source": [
    "### WHERE ####3\n",
    "sql_filter = 'SELECT * FROM tipsDB WHERE time = \"Dinner\" LIMIT 5'\n",
    "cursor.execute(sql_filter).fetchall()"
   ]
  },
  {
   "cell_type": "code",
   "execution_count": null,
   "metadata": {},
   "outputs": [],
   "source": [
    "tips[tips['time']=='Dinner'].head()"
   ]
  },
  {
   "cell_type": "code",
   "execution_count": null,
   "metadata": {},
   "outputs": [],
   "source": [
    "sql_select_3 = 'SELECT * FROM tipsDB WHERE time = \"Dinner\" AND tip > 5.00'\n",
    "cursor.execute(sql_select_3).fetchall()"
   ]
  },
  {
   "cell_type": "code",
   "execution_count": null,
   "metadata": {},
   "outputs": [],
   "source": [
    "tips[(tips['time'] == 'Dinner') & (tips['tip'] > 5.00)].head()"
   ]
  },
  {
   "cell_type": "code",
   "execution_count": null,
   "metadata": {},
   "outputs": [],
   "source": [
    "sql_update = 'update tipsDB set tip=NULL where tip=7.58'\n",
    "cursor.execute(sql_update)\n",
    "engine.commit()"
   ]
  },
  {
   "cell_type": "code",
   "execution_count": null,
   "metadata": {},
   "outputs": [],
   "source": [
    "cursor.execute('select * from tipsDB where total_bill=39.42').fetchall()"
   ]
  },
  {
   "cell_type": "code",
   "execution_count": null,
   "metadata": {},
   "outputs": [],
   "source": [
    "sql_isnull = 'SELECT * FROM tipsDB WHERE tip IS NULL'\n",
    "cursor.execute(sql_isnull).fetchall()"
   ]
  },
  {
   "cell_type": "code",
   "execution_count": null,
   "metadata": {},
   "outputs": [],
   "source": [
    "#import numpy as np\n",
    "tips[tips['tip'].isna()]\n",
    "\n",
    "tips.loc[tips['tip']<3.0,'tip']=None\n"
   ]
  },
  {
   "cell_type": "code",
   "execution_count": null,
   "metadata": {},
   "outputs": [],
   "source": [
    "tips[tips['tip'].isna()]"
   ]
  },
  {
   "cell_type": "code",
   "execution_count": null,
   "metadata": {},
   "outputs": [],
   "source": [
    "sql_isnotnull = 'SELECT * FROM tipsDB WHERE total_bill IS NOT NULL'\n",
    "cursor.execute(sql_isnotnull).fetchall()"
   ]
  },
  {
   "cell_type": "code",
   "execution_count": null,
   "metadata": {},
   "outputs": [],
   "source": [
    "tips[tips[\"total_bill\"].notna()]"
   ]
  },
  {
   "cell_type": "code",
   "execution_count": null,
   "metadata": {},
   "outputs": [],
   "source": [
    "### GROUP BY ###\n",
    "sql_groupby = 'SELECT sex, count(*) FROM tipsDB GROUP BY sex'\n",
    "cursor.execute(sql_groupby).fetchall()\n"
   ]
  },
  {
   "cell_type": "code",
   "execution_count": null,
   "metadata": {},
   "outputs": [],
   "source": [
    "tips.groupby('sex').size()"
   ]
  },
  {
   "cell_type": "code",
   "execution_count": null,
   "metadata": {},
   "outputs": [],
   "source": [
    "sql = 'SELECT smoker, day, COUNT(*), AVG(tip) FROM tipsDB GROUP BY smoker, day'\n",
    "cursor.execute(sql).fetchall()"
   ]
  },
  {
   "cell_type": "code",
   "execution_count": null,
   "metadata": {},
   "outputs": [],
   "source": [
    "tips.groupby([\"smoker\", \"day\"]).agg({\"tip\": ['count', 'mean']})"
   ]
  },
  {
   "cell_type": "code",
   "execution_count": null,
   "metadata": {},
   "outputs": [],
   "source": [
    "db_Airbnb = pd.read_csv('listings-2.csv')\n",
    "\n",
    "df1 = db_Airbnb[['bedrooms','accommodates','price']]\n",
    "\n",
    "\n",
    "df2 = df1.assign(price=df1['price'].str.replace('$', ''))\n",
    "df3 = df2.assign(price=df2['price'].str.replace(',', '').astype(float))\n",
    "\n",
    "df3.groupby([\"bedrooms\"]).mean()\n",
    "df3.groupby([\"bedrooms\"]).agg({\"price\":['mean']})\n",
    "\n",
    "#db_filtered.groupby([\"bedrooms\"]).agg({\"price\":['mean']})"
   ]
  },
  {
   "cell_type": "code",
   "execution_count": null,
   "metadata": {},
   "outputs": [],
   "source": [
    "df1[\"accommodates\"].isnull().sum()\n"
   ]
  },
  {
   "cell_type": "code",
   "execution_count": null,
   "metadata": {},
   "outputs": [],
   "source": [
    "df3[[\"price\",\"accommodates\"]].corr()"
   ]
  },
  {
   "cell_type": "code",
   "execution_count": null,
   "metadata": {},
   "outputs": [],
   "source": [
    "import numpy as np\n",
    "values = np.random.randn(4)\n",
    "values = np.append(values,np.nan)\n",
    "\n",
    "df1 = pd.DataFrame({\"key\": [\"A\", \"B\", \"C\", \"D\",\"E\"], \"value\": values})\n",
    "df2 = pd.DataFrame({\"key\": [\"B\", \"D\", \"D\", \"E\"], \"value\": np.random.randn(4)})\n",
    "\n",
    "\n",
    "df1.to_sql('df1DB', con=engine)\n",
    "df2.to_sql('df2DB', con=engine)"
   ]
  },
  {
   "cell_type": "code",
   "execution_count": null,
   "metadata": {},
   "outputs": [],
   "source": [
    "sql_join = 'SELECT * FROM df1DB INNER JOIN df2DB ON df1DB.key = df2DB.key'\n",
    "cursor.execute(sql_join).fetchall()"
   ]
  },
  {
   "cell_type": "code",
   "execution_count": null,
   "metadata": {},
   "outputs": [],
   "source": [
    "pd.merge(df1, df2, on=\"key\")"
   ]
  },
  {
   "cell_type": "code",
   "execution_count": null,
   "metadata": {},
   "outputs": [],
   "source": [
    "sql_leftjoin = 'SELECT * FROM df1DB LEFT OUTER JOIN df2DB ON df1DB.key = df2DB.key'\n",
    "cursor.execute(sql_leftjoin).fetchall()"
   ]
  },
  {
   "cell_type": "code",
   "execution_count": null,
   "metadata": {},
   "outputs": [],
   "source": [
    "pd.merge(df1, df2, on=\"key\", how=\"left\")"
   ]
  },
  {
   "cell_type": "code",
   "execution_count": null,
   "metadata": {},
   "outputs": [],
   "source": [
    "df3 = pd.DataFrame( \n",
    "        {\"city\": [\"Chicago\", \"San Francisco\", \"New York City\"], \"rank\": range(1, 4)}\n",
    "        )\n",
    "\n",
    "df4 = pd.DataFrame(\n",
    "        {\"city\": [\"Chicago\", \"Boston\", \"Los Angeles\"], \"rank\": [1, 4, 5]})\n"
   ]
  },
  {
   "cell_type": "code",
   "execution_count": null,
   "metadata": {},
   "outputs": [],
   "source": [
    "df3.to_sql('df3DB', con=engine)\n",
    "df4.to_sql('df4DB', con=engine)"
   ]
  },
  {
   "cell_type": "code",
   "execution_count": null,
   "metadata": {},
   "outputs": [],
   "source": [
    "sql_union = 'SELECT *\\\n",
    "                FROM df3DB\\\n",
    "                UNION ALL\\\n",
    "             SELECT *\\\n",
    "                FROM df4DB'\n",
    "cursor.execute(sql_union).fetchall()"
   ]
  },
  {
   "cell_type": "code",
   "execution_count": null,
   "metadata": {},
   "outputs": [],
   "source": [
    "header_list = [\"personid\", \"firstname\", \"middleinitial\",\"lastname\",\"dateofbirth\"]\n",
    "path_file = \"/Users/charles/Documents/Infnet/Semana4/Sample/SamplePersonData\"\n",
    "df_Person = pd.read_csv(path_file, names=header_list)\n",
    "df_Person"
   ]
  },
  {
   "cell_type": "code",
   "execution_count": null,
   "metadata": {},
   "outputs": [],
   "source": [
    "header_list = [\"studentid\", \"personid\", \"email\"]\n",
    "path_file = \"/Users/charles/Documents/Infnet/Semana4/Sample/SampleStudentData\"\n",
    "df_Student = pd.read_csv(path_file, names=header_list)\n",
    "df_Student                         "
   ]
  },
  {
   "cell_type": "code",
   "execution_count": null,
   "metadata": {},
   "outputs": [],
   "source": [
    "header_list = [\"courseid\", \"name\", \"teacher\"]\n",
    "path_file = \"/Users/charles/Documents/Infnet/Semana4/Sample/SampleCourseData\"\n",
    "df_Course = pd.read_csv(path_file, names=header_list)\n",
    "df_Course"
   ]
  },
  {
   "cell_type": "code",
   "execution_count": null,
   "metadata": {},
   "outputs": [],
   "source": [
    "header_list = [\"studentid\", \"courseid\", \"grade\",\"attempt\"]\n",
    "path_file = \"/Users/charles/Documents/Infnet/Semana4/Sample/SampleCreditData\"\n",
    "df_Credit = pd.read_csv(path_file, names=header_list)\n",
    "df_Credit"
   ]
  },
  {
   "cell_type": "code",
   "execution_count": null,
   "metadata": {},
   "outputs": [],
   "source": [
    "df_Credit.groupby(df_Credit.grade > 83.5).size()"
   ]
  },
  {
   "cell_type": "code",
   "execution_count": null,
   "metadata": {},
   "outputs": [],
   "source": [
    "df_Course.name.sort_values(ascending=True)"
   ]
  },
  {
   "cell_type": "code",
   "execution_count": null,
   "metadata": {},
   "outputs": [],
   "source": [
    "df_Person[df_Person.lastname.str.contains(\"ez\")]"
   ]
  },
  {
   "cell_type": "code",
   "execution_count": null,
   "metadata": {},
   "outputs": [],
   "source": [
    "df_n = df_Credit[['studentid','grade']]"
   ]
  },
  {
   "cell_type": "code",
   "execution_count": null,
   "metadata": {},
   "outputs": [],
   "source": [
    "df_n.assign(status= lambda x: np.where(x[\"grade\"] > 70.0, \"Aprovado\", \"Reprovado\"))\n",
    "\n",
    "#lambda x: np.where(x[\"grade\"] > 70.0, \"Apr\", \"Repr\")"
   ]
  },
  {
   "cell_type": "code",
   "execution_count": null,
   "metadata": {},
   "outputs": [],
   "source": [
    "conditions = \"courseid\"\n",
    "df_m = pd.merge(df_Credit,df_Course,on=conditions)"
   ]
  },
  {
   "cell_type": "code",
   "execution_count": null,
   "metadata": {},
   "outputs": [],
   "source": [
    "#df_nameCourse = df_m[df_m.grade.mean() > 70.0]\n",
    "df_m.grade.mean()"
   ]
  },
  {
   "cell_type": "code",
   "execution_count": null,
   "metadata": {},
   "outputs": [],
   "source": []
  },
  {
   "cell_type": "code",
   "execution_count": null,
   "metadata": {},
   "outputs": [],
   "source": [
    "## Realizar uma consulta que retorne os email dos alunos que cursaram 3 vezes um mesmo curso  \n",
    "\n",
    "df_res = pd.merge(df_Student,df_Credit,on=\"studentid\")"
   ]
  },
  {
   "cell_type": "code",
   "execution_count": null,
   "metadata": {},
   "outputs": [],
   "source": [
    "df_res1 = df_res[df_res[\"attempt\"] == 3]"
   ]
  },
  {
   "cell_type": "code",
   "execution_count": null,
   "metadata": {},
   "outputs": [],
   "source": [
    "df_res1.email"
   ]
  },
  {
   "cell_type": "code",
   "execution_count": null,
   "metadata": {},
   "outputs": [],
   "source": [
    "## DESAFIO) Realizar uma consulta que retorne os nomes dos professores mais carrascos - isto é - aqueles cujo o número de alunos reprovados (média menor que 70.0) foi maior do que de\n",
    "## alunos aprovados.\n",
    "\n",
    "df_ = pd.merge(df_Course, df_Credit,on=\"courseid\")"
   ]
  },
  {
   "cell_type": "code",
   "execution_count": null,
   "metadata": {},
   "outputs": [],
   "source": [
    "df_"
   ]
  },
  {
   "cell_type": "code",
   "execution_count": null,
   "metadata": {},
   "outputs": [],
   "source": [
    "df__ = df_.assign(status= lambda x: np.where(x[\"grade\"] > 70.0, \"Aprovado\", \"Reprovado\"))\n",
    "df__"
   ]
  },
  {
   "cell_type": "code",
   "execution_count": null,
   "metadata": {},
   "outputs": [],
   "source": [
    "df_f = df__.groupby([\"teacher\",\"status\"]).size()"
   ]
  },
  {
   "cell_type": "code",
   "execution_count": null,
   "metadata": {},
   "outputs": [],
   "source": [
    "df_f.head()"
   ]
  },
  {
   "cell_type": "code",
   "execution_count": null,
   "metadata": {},
   "outputs": [],
   "source": [
    "df_4 = df_f.reset_index(name = \"Total\")\n",
    "df_4.groupby(['teacher']).agg({'Total': ['max']})"
   ]
  },
  {
   "cell_type": "code",
   "execution_count": null,
   "metadata": {},
   "outputs": [],
   "source": [
    "\n",
    "lst_index  = (df_4.loc[range(0,len(df_4),2),'Total']) \n",
    "lst_index2  = (df_4.loc[range(1,len(df_4),2),'Total']) \n",
    "\n",
    "idx=[]\n",
    "\n",
    "for i in range(len(lst_index)):\n",
    "        if lst_index.values[i] < lst_index2.values[i]: \n",
    "            idx.append(lst_index2.index[i])\n",
    "        else: \n",
    "            idx.append(lst_index.index[i])\n",
    "        \n",
    "df_4.values[idx]"
   ]
  },
  {
   "cell_type": "code",
   "execution_count": null,
   "metadata": {},
   "outputs": [],
   "source": [
    "df_4.groupby(['teacher']).max()"
   ]
  },
  {
   "cell_type": "code",
   "execution_count": null,
   "metadata": {},
   "outputs": [],
   "source": [
    "####  Achar os estudantes do prof. Harley Albert que obtiveram média > 70.0 \n",
    "### A consulta deverá retornar os seguintes atributos: FirstName, LastName, Course(Name), Média (Grade)  \n",
    "df_merge_Course_Credit = pd.merge(df_Course,df_Credit,on='courseid')\n"
   ]
  },
  {
   "cell_type": "code",
   "execution_count": null,
   "metadata": {},
   "outputs": [],
   "source": [
    "df_Course_Credit_prof_H = df_merge_prof.loc[df_merge_Course_Credit.courseid==30]"
   ]
  },
  {
   "cell_type": "code",
   "execution_count": null,
   "metadata": {},
   "outputs": [],
   "source": [
    "df_Course_Credit_Stud_profH = pd.merge(df_Course_Credit_prof_H,df_Student,on='studentid')"
   ]
  },
  {
   "cell_type": "code",
   "execution_count": null,
   "metadata": {},
   "outputs": [],
   "source": [
    "df_Student_Course_Credit_Stud_profH = pd.merge(df_Person,df_Course_Credit_Stud_profH,on='personid')"
   ]
  },
  {
   "cell_type": "code",
   "execution_count": null,
   "metadata": {},
   "outputs": [],
   "source": [
    "df_studentnames_of_result = df_Student_Course_Credit_Stud_profH.loc[(df_Student_Course_Credit_Stud_profH.grade > 70.0)]\n"
   ]
  },
  {
   "cell_type": "code",
   "execution_count": null,
   "metadata": {},
   "outputs": [],
   "source": [
    "df_studentnames_of_result_ =df_studentnames_of_result[['firstname','lastname','name','grade']]"
   ]
  },
  {
   "cell_type": "code",
   "execution_count": null,
   "metadata": {},
   "outputs": [],
   "source": [
    "df_studentnames_of_result_"
   ]
  },
  {
   "cell_type": "code",
   "execution_count": null,
   "metadata": {},
   "outputs": [],
   "source": []
  },
  {
   "cell_type": "code",
   "execution_count": null,
   "metadata": {},
   "outputs": [],
   "source": []
  },
  {
   "cell_type": "code",
   "execution_count": null,
   "metadata": {},
   "outputs": [],
   "source": [
    "import pandas as pd\n",
    "#dfClean = pd.read_csv('dirtydata_Semana5.csv')\n",
    "dfClean = pd.read_csv('data.csv')\n",
    "dfClean"
   ]
  },
  {
   "cell_type": "code",
   "execution_count": null,
   "metadata": {},
   "outputs": [],
   "source": [
    "#dfClean['Date'].str.match(\"'[0-9]{4}/[0-9]{2}/[0-9]{2}'\")"
   ]
  },
  {
   "cell_type": "code",
   "execution_count": null,
   "metadata": {},
   "outputs": [],
   "source": [
    "#### Verifica se tem duplicatas no Dataframe ###3\n",
    "dfClean[dfClean.duplicated()]"
   ]
  },
  {
   "cell_type": "code",
   "execution_count": null,
   "metadata": {},
   "outputs": [],
   "source": [
    "### Remove as duplicatas ####\n",
    "dfClean.drop_duplicates(inplace=True)"
   ]
  },
  {
   "cell_type": "code",
   "execution_count": null,
   "metadata": {},
   "outputs": [],
   "source": [
    "### Reset_index #### \n",
    "dfClean.reset_index(drop=True)"
   ]
  },
  {
   "cell_type": "code",
   "execution_count": null,
   "metadata": {},
   "outputs": [],
   "source": [
    "### Verifica se tem valores nulos na tabela ###\n",
    "dfClean.isnull().sum()"
   ]
  },
  {
   "cell_type": "code",
   "execution_count": null,
   "metadata": {},
   "outputs": [],
   "source": [
    "dfClean.info()\n"
   ]
  },
  {
   "cell_type": "code",
   "execution_count": null,
   "metadata": {},
   "outputs": [],
   "source": [
    "### Tipos de uma coluna #### \n",
    "dfClean.Calories.map(type)"
   ]
  },
  {
   "cell_type": "code",
   "execution_count": null,
   "metadata": {},
   "outputs": [],
   "source": [
    "### Visualiza a coluna Calories #####\n",
    "dfClean[dfClean.Calories.isna()]"
   ]
  },
  {
   "cell_type": "code",
   "execution_count": null,
   "metadata": {},
   "outputs": [],
   "source": [
    "#### Substituir pela média ##### \n",
    "avg_45 = dfClean[dfClean.Duration==45].Calories.mean()\n",
    "avg_45"
   ]
  },
  {
   "cell_type": "code",
   "execution_count": null,
   "metadata": {},
   "outputs": [],
   "source": [
    "avg_60 = dfClean[dfClean.Duration==60].Calories.mean()\n",
    "avg_60"
   ]
  },
  {
   "cell_type": "code",
   "execution_count": null,
   "metadata": {},
   "outputs": [],
   "source": [
    "dfClean.loc[(dfClean.Calories.isna()) & (dfClean.Duration==60),'Calories'] = avg_60"
   ]
  },
  {
   "cell_type": "code",
   "execution_count": null,
   "metadata": {},
   "outputs": [],
   "source": [
    "dfClean.loc[(dfClean.Calories.isna()) & (dfClean.Duration==45),'Calories'] = avg_45"
   ]
  },
  {
   "cell_type": "code",
   "execution_count": null,
   "metadata": {},
   "outputs": [],
   "source": [
    "dfClean[dfClean.Calories.isnull()]"
   ]
  },
  {
   "cell_type": "code",
   "execution_count": null,
   "metadata": {},
   "outputs": [],
   "source": [
    "## Visualização do DataFrame ###### \n"
   ]
  },
  {
   "attachments": {
    "image-2.png": {
     "image/png": "[encoded data removed]"
    },
    "image-3.png": {
     "image/png": "[encoded data removed]"
    },
    "image-4.png": {
     "image/png": "[encoded data removed]"
    },
    "image-5.png": {
     "image/png": "[encoded data removed]"
    }
   },
   "cell_type": "markdown",
   "metadata": {},
   "source": [
    "### Regressão Linear #####\n",
    "\n",
    "#### Coeficiente de Determinação (R-squared) : \n",
    "\n",
    "![image-2.png](attachment:image-2.png)\n",
    "![image-3.png](attachment:image-3.png)\n",
    "![image-4.png](attachment:image-4.png)\n",
    "\n",
    "#### Mean squared error :\n",
    "\n",
    "![image-5.png](attachment:image-5.png)"
   ]
  },
  {
   "attachments": {
    "image.png": {
     "image/png": "[encoded data removed]"
    }
   },
   "cell_type": "markdown",
   "metadata": {},
   "source": [
    " ![image.png](attachment:image.png)"
   ]
  },
  {
   "cell_type": "code",
   "execution_count": null,
   "metadata": {},
   "outputs": [],
   "source": [
    "dfClean.describe()"
   ]
  },
  {
   "attachments": {
    "image.png": {
     "image/png": "[encoded data removed]"
    }
   },
   "cell_type": "markdown",
   "metadata": {},
   "source": [
    "![image.png](attachment:image.png)"
   ]
  },
  {
   "cell_type": "code",
   "execution_count": null,
   "metadata": {},
   "outputs": [],
   "source": [
    "dfClean.corr()"
   ]
  },
  {
   "cell_type": "code",
   "execution_count": null,
   "metadata": {},
   "outputs": [],
   "source": [
    "### P-Values\n",
    "from scipy import stats\n",
    "pearson_coef, p_value = stats.pearsonr(dfClean['Duration'], dfClean['Calories'])\n",
    "print(\"The Pearson Correlation Coefficient is\", pearson_coef, \" with a P-value of P =\", p_value) "
   ]
  },
  {
   "cell_type": "code",
   "execution_count": null,
   "metadata": {},
   "outputs": [],
   "source": [
    "#### Visualizar Duration x Calories \n"
   ]
  },
  {
   "cell_type": "code",
   "execution_count": null,
   "metadata": {},
   "outputs": [],
   "source": [
    "from sklearn.linear_model import LinearRegression"
   ]
  },
  {
   "cell_type": "code",
   "execution_count": null,
   "metadata": {},
   "outputs": [],
   "source": []
  },
  {
   "cell_type": "code",
   "execution_count": null,
   "metadata": {},
   "outputs": [],
   "source": [
    "### Definir as Variáveis X e Y \n",
    "X = \n",
    "Y = "
   ]
  },
  {
   "cell_type": "code",
   "execution_count": null,
   "metadata": {},
   "outputs": [],
   "source": [
    "### Acha a reta que melhor descreve a distribuição dos dados \n"
   ]
  },
  {
   "cell_type": "code",
   "execution_count": null,
   "metadata": {},
   "outputs": [],
   "source": [
    "### Usa o modelo para predição #### \n",
    "  "
   ]
  },
  {
   "cell_type": "code",
   "execution_count": null,
   "metadata": {},
   "outputs": [],
   "source": [
    "### R-squared #####\n",
    "#print('The R-square is: ', lr.score(X, Y))"
   ]
  },
  {
   "cell_type": "code",
   "execution_count": null,
   "metadata": {},
   "outputs": [],
   "source": [
    "#### MSE - Mean Squared Error #### \n",
    "from sklearn.metrics import mean_squared_error\n",
    "\n",
    "#print('The mean square error of Calories and predicted value is: ', mse)"
   ]
  },
  {
   "cell_type": "code",
   "execution_count": null,
   "metadata": {},
   "outputs": [],
   "source": [
    "import matplotlib.pyplot as plt\n",
    "import seaborn as sns\n",
    "%matplotlib inline "
   ]
  },
  {
   "cell_type": "code",
   "execution_count": null,
   "metadata": {},
   "outputs": [],
   "source": [
    "#width = 12\n",
    "#height = 10\n",
    "#plt.figure(figsize=(width, height))\n",
    "#sns.regplot(x=\"Duration\", y=\"Calories\", data=dfClean)\n"
   ]
  },
  {
   "cell_type": "code",
   "execution_count": null,
   "metadata": {},
   "outputs": [],
   "source": [
    "#width = 12\n",
    "#height = 10\n",
    "#plt.figure(figsize=(width, height))\n",
    "#x =dfClean['Duration']\n",
    "#y = dfClean['Calories']\n",
    "#sns.residplot(x,y)\n",
    "#plt.show()"
   ]
  },
  {
   "cell_type": "code",
   "execution_count": null,
   "metadata": {},
   "outputs": [],
   "source": []
  },
  {
   "cell_type": "code",
   "execution_count": null,
   "metadata": {},
   "outputs": [],
   "source": []
  },
  {
   "cell_type": "code",
   "execution_count": null,
   "metadata": {},
   "outputs": [],
   "source": []
  },
  {
   "cell_type": "code",
   "execution_count": null,
   "metadata": {},
   "outputs": [],
   "source": []
  },
  {
   "cell_type": "code",
   "execution_count": null,
   "metadata": {},
   "outputs": [],
   "source": []
  },
  {
   "cell_type": "code",
   "execution_count": null,
   "metadata": {},
   "outputs": [],
   "source": []
  }
 ],
 "metadata": {
  "kernelspec": {
   "display_name": "Python 3",
   "language": "python",
   "name": "python3"
  },
  "language_info": {
   "codemirror_mode": {
    "name": "ipython",
    "version": 3
   },
   "file_extension": ".py",
   "mimetype": "text/x-python",
   "name": "python",
   "nbconvert_exporter": "python",
   "pygments_lexer": "ipython3",
   "version": "3.8.5"
  }
 },
 "nbformat": 4,
 "nbformat_minor": 4
}
